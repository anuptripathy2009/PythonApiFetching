{
 "cells": [
  {
   "cell_type": "code",
   "execution_count": 1,
   "id": "d26f4beb-eaaa-4cea-aa67-feb56105d1dc",
   "metadata": {},
   "outputs": [],
   "source": [
    "import requests"
   ]
  },
  {
   "cell_type": "code",
   "execution_count": 2,
   "id": "0b6dee7d-8072-4bd6-a853-176ad681f0a5",
   "metadata": {},
   "outputs": [],
   "source": [
    "response = requests.get(\"https://randomuser.me/api\") # Getting response from the website"
   ]
  },
  {
   "cell_type": "code",
   "execution_count": 4,
   "id": "64e9ee3f-473f-4bc2-8b30-34c2c6495988",
   "metadata": {},
   "outputs": [
    {
     "data": {
      "text/plain": [
       "200"
      ]
     },
     "execution_count": 4,
     "metadata": {},
     "output_type": "execute_result"
    }
   ],
   "source": [
    "response.status_code"
   ]
  },
  {
   "cell_type": "markdown",
   "id": "8218aad1-457e-413d-b622-4cd8c98c4d15",
   "metadata": {},
   "source": [
    "599)"
   ]
  }
 ],
 "metadata": {
  "kernelspec": {
   "display_name": "Python 3 (ipykernel)",
   "language": "python",
   "name": "python3"
  },
  "language_info": {
   "codemirror_mode": {
    "name": "ipython",
    "version": 3
   },
   "file_extension": ".py",
   "mimetype": "text/x-python",
   "name": "python",
   "nbconvert_exporter": "python",
   "pygments_lexer": "ipython3",
   "version": "3.11.1"
  }
 },
 "nbformat": 4,
 "nbformat_minor": 5
}
